{
 "cells": [
  {
   "cell_type": "code",
   "execution_count": 1,
   "id": "a1dcd109-9e8c-4fa8-8392-06eb778b791a",
   "metadata": {},
   "outputs": [],
   "source": [
    "import cv2\n",
    "image=cv2.imread(\"image2.jpg\")\n",
    "    "
   ]
  },
  {
   "cell_type": "code",
   "execution_count": 2,
   "id": "7fbc49ba-c9b5-48f1-8a76-662b2613ce70",
   "metadata": {},
   "outputs": [],
   "source": [
    "image=cv2.resize(image,(400,300))\n",
    "cv2.imshow('flower',image)\n",
    "cv2.waitKey(0)\n",
    "cv2.destroyAllWindows()"
   ]
  },
  {
   "cell_type": "code",
   "execution_count": 3,
   "id": "be4750c3-8972-4926-9ae1-3a904d26dd2a",
   "metadata": {},
   "outputs": [
    {
     "data": {
      "text/plain": [
       "True"
      ]
     },
     "execution_count": 3,
     "metadata": {},
     "output_type": "execute_result"
    }
   ],
   "source": [
    "image=cv2.imread('image2.jpg',0)\n",
    "cv2.imwrite('a.jpeg',image)"
   ]
  },
  {
   "cell_type": "code",
   "execution_count": 4,
   "id": "5962ae24-ba56-49da-ada0-189da249e65f",
   "metadata": {},
   "outputs": [
    {
     "name": "stdout",
     "output_type": "stream",
     "text": [
      "(717, 1280, 3)\n"
     ]
    }
   ],
   "source": [
    "import cv2\n",
    "image=cv2.imread('image2.jpg',1)\n",
    "print(image.shape)"
   ]
  },
  {
   "cell_type": "code",
   "execution_count": 16,
   "id": "45adbb0b-03b1-4f9b-8bad-27d828c44274",
   "metadata": {},
   "outputs": [],
   "source": [
    "import random\n",
    "import cv2\n",
    "image=cv2.imread('image2.jpg',1)\n",
    "image=cv2.resize(image,(400,400))\n",
    "for i in range (150,200):\n",
    "    for j in range(image.shape[1]):\n",
    "        image[i][j]=[random.randint(0,255),\n",
    "                    random.randint(0,255),\n",
    "                    random.randint(0,255)] \n",
    "cv2.imshow('car part image',image)\n",
    "cv2.waitKey(0)\n",
    "cv2.destroyAllWindows()"
   ]
  },
  {
   "cell_type": "code",
   "execution_count": 15,
   "id": "541456ff-3f8a-4f37-9226-230c0c8b9da6",
   "metadata": {},
   "outputs": [],
   "source": [
    "  import cv2\n",
    "  image=cv2.imread('image2.jpg',1)\n",
    "  image=cv2.resize(image,(400,400))\n",
    "  tag =image[130:200,110:190]\n",
    "  image[110:180,120:200] = tag\n",
    "  cv2.imshow('cut and paste',image)\n",
    "  cv2.waitKey(0)\n",
    "  cv2.destroyAllWindows()"
   ]
  },
  {
   "cell_type": "code",
   "execution_count": 7,
   "id": "235d74f5-f3ad-48ec-9c4e-0814e2a1a4f7",
   "metadata": {},
   "outputs": [],
   "source": [
    "import cv2\n",
    "img = cv2.imread('image2.jpg',1)\n",
    "img = cv2.resize(img,(300,200))\n",
    "cv2.imshow('Original Image',img)\n",
    "hsv1 = cv2.cvtColor(img,cv2.COLOR_BGR2HSV)\n",
    "cv2.imshow('BGR2HSV',hsv1)\n",
    "hsv2 = cv2.cvtColor(img,cv2.COLOR_RGB2HSV)\n",
    "cv2.imshow('RGB2HSV',hsv2)\n",
    "gray1 = cv2.cvtColor(img,cv2.COLOR_BGR2GRAY)\n",
    "cv2.imshow('BGR2GRAY',gray1)\n",
    "gray2 = cv2.cvtColor(img,cv2.COLOR_RGB2GRAY)\n",
    "cv2.imshow('RGB2GRAY',gray2)\n",
    "cv2.waitKey(0)\n",
    "cv2.destroyAllWindows()"
   ]
  },
  {
   "cell_type": "code",
   "execution_count": 12,
   "id": "a5246cba-1d49-4eb5-85ba-9275a964e5e9",
   "metadata": {},
   "outputs": [],
   "source": [
    "import cv2\n",
    "img = cv2.imread('image2.jpg')\n",
    "img = cv2.resize(img,(300,200))\n",
    "img = cv2.cvtColor(img,cv2.COLOR_BGR2HSV)\n",
    "cv2.imshow('Original HSV Image',img)\n",
    "RGB = cv2.cvtColor(img,cv2.COLOR_HSV2RGB)\n",
    "cv2.imshow('2HSV2BGR',RGB)\n",
    "BGR = cv2.cvtColor(img,cv2.COLOR_HSV2BGR)\n",
    "cv2.imshow('HSV2RGB',BGR)\n",
    "cv2.waitKey(0)\n",
    "cv2.destroyAllWindows()"
   ]
  },
  {
   "cell_type": "code",
   "execution_count": 13,
   "id": "36abf4db-b1af-4d7e-8483-239dd9e56c87",
   "metadata": {},
   "outputs": [],
   "source": [
    "import cv2\n",
    "img = cv2.imread('image2.jpg')\n",
    "img = cv2.resize(img,(300,200))\n",
    "cv2.imshow('Original RGB Image',img)\n",
    "YCrCb1 = cv2.cvtColor(img, cv2.COLOR_BGR2YCrCb)\n",
    "cv2.imshow('RGB-2-YCrCb',YCrCb1)\n",
    "YCrCb2 = cv2.cvtColor(img, cv2.COLOR_RGB2YCrCb)\n",
    "cv2.imshow('BGR-2-YCrCb',YCrCb2)\n",
    "cv2.waitKey(0)\n",
    "cv2.destroyAllWindows()"
   ]
  },
  {
   "cell_type": "code",
   "execution_count": 14,
   "id": "931ab625-1aa4-4672-86af-4d45835be0bc",
   "metadata": {},
   "outputs": [],
   "source": [
    "import cv2\n",
    "img = cv2.imread('image2.jpg',1)\n",
    "img = cv2.resize(img,(300,200))\n",
    "R = img[:,:,2]\n",
    "G = img[:,:,1]\n",
    "B = img[:,:,0]\n",
    "cv2.imshow('R-Channel',R)\n",
    "cv2.imshow('G-Channel',G)\n",
    "cv2.imshow('B-Channel',B)\n",
    "merged = cv2.merge((B,G,R))\n",
    "cv2.imshow('Merged RGB image',merged)\n",
    "cv2.waitKey(0)\n",
    "cv2.destroyAllWindows()"
   ]
  },
  {
   "cell_type": "code",
   "execution_count": 19,
   "id": "b209c7e1-245e-466e-ba70-5433cd1baab2",
   "metadata": {},
   "outputs": [],
   "source": [
    "import cv2\n",
    "img = cv2.imread(\"image2.jpg\",1)\n",
    "img = cv2.resize(img,(300,200))\n",
    "img=cv2.cvtColor(img,cv2.COLOR_RGB2HSV)\n",
    "H,S,V=cv2.split(img)\n",
    "cv2.imshow('Hue',H)\n",
    "cv2.imshow('Saturation',S)\n",
    "cv2.imshow('Value',V)\n",
    "merged = cv2.merge((H,S,V))\n",
    "cv2.imshow('Merged',merged)\n",
    "cv2.waitKey(0)\n",
    "cv2.destroyAllWindows()"
   ]
  },
  {
   "cell_type": "code",
   "execution_count": null,
   "id": "2ddcbae9-a011-498c-96f0-6cb230205f2c",
   "metadata": {},
   "outputs": [],
   "source": []
  },
  {
   "cell_type": "code",
   "execution_count": null,
   "id": "d4576db3-2688-4147-ae9c-452abcbac2c0",
   "metadata": {},
   "outputs": [],
   "source": []
  }
 ],
 "metadata": {
  "kernelspec": {
   "display_name": "Python 3 (ipykernel)",
   "language": "python",
   "name": "python3"
  },
  "language_info": {
   "codemirror_mode": {
    "name": "ipython",
    "version": 3
   },
   "file_extension": ".py",
   "mimetype": "text/x-python",
   "name": "python",
   "nbconvert_exporter": "python",
   "pygments_lexer": "ipython3",
   "version": "3.12.4"
  }
 },
 "nbformat": 4,
 "nbformat_minor": 5
}
